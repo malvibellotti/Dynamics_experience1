{
 "cells": [
  {
   "cell_type": "markdown",
   "metadata": {},
   "source": []
  },
  {
   "cell_type": "code",
   "execution_count": 4,
   "metadata": {},
   "outputs": [],
   "source": [
    "import numpy as np\n",
    "\n",
    "G = 6.674e-11\n",
    "manually_set = 0     #set this to 1 if you want to give the values from terminal, otherwise read from input_raw.txt\n",
    "starting_time = 0       #starting time added to the input_converted file\n",
    "center_of_mass = 0      #set this to True if you want the coordinates to be in the center of mass\n",
    "\n",
    "#mass is always set (we can change it in the future but I think it's the simplest way)\n",
    "#now we are left with radius and velocity\n",
    "set_radius = True       #if this is True the radius will be set to 1 ua (which can be changed in the code). Then the velocity will be calculated accordingly (to get G=1)\n",
    "#if this is False the velocity will be set to 1000m/s and the radius will be calculated accordingly\n",
    "\n",
    "mass = []\n",
    "x = []\n",
    "y = []\n",
    "z = []\n",
    "vx =[]\n",
    "vy = []\n",
    "vz = []\n",
    "r = []\n",
    "\n",
    "if manually_set == True:\n",
    "    number_of_bodies = input(\"Enter the number of bodies:\")\n",
    "    for i in range(int(number_of_bodies)):\n",
    "        mass.append(float(input(\"Enter mass:\")))\n",
    "        x.append(float(input(\"Enter x\")))\n",
    "        y.append(float(input(\"Enter y\")))\n",
    "        z.append(float(input(\"Enter z\")))\n",
    "        vx.append(float(input(\"Enter vx\")))\n",
    "        vy.append(float(input(\"Enter vy\")))\n",
    "        vz.append(float(input(\"Enter vz\")))\n",
    "    \n",
    "        r.append(np.sqrt(x[i]**2 + y[i]**2 + z[i]**2))      #non so se serve\n",
    "else:\n",
    "    mass, x, y, z, vx, vy, vz = np.loadtxt(\"input_raw.txt\", delimiter=\" \", comments=\"#\", dtype=\"float\").T\n",
    "    number_of_bodies = len(mass)\n",
    "\n",
    "mass_x = [a * b for a, b in zip(mass, x)]      #mass times coordinate x\n",
    "mass_y = [a * b for a, b in zip(mass, y)]      #mass times coordinate y\n",
    "mass_z = [a * b for a, b in zip(mass, z)]      #mass times coordinate z\n",
    "cm_x = np.sum(mass_x)/sum(mass)\n",
    "cm_y = np.sum(mass_y)/sum(mass)\n",
    "cm_z = np.sum(mass_z)/sum(mass)\n",
    "\n",
    "mass_internal = mass[0]     #use the first mass as unit, you can choose another one\n",
    "\n",
    "if set_radius == True:\n",
    "    r_internal = 149597870700       #m, 1 ua, you can change this to be anything (but 0)\n",
    "    v_internal = np.sqrt(G*mass_internal/r_internal)\n",
    "\n",
    "else:\n",
    "    v_internal = 1000       #m/s\n",
    "    r_internal = G*mass_internal/v_internal**2\n",
    "\n",
    "t_internal = r_internal/v_internal\n",
    "\n",
    "\n",
    "new_mass = mass/mass_internal\n",
    "\n",
    "if center_of_mass == True:\n",
    "    new_x = (x-cm_x)/r_internal\n",
    "    new_y = (y-cm_y)/r_internal\n",
    "    new_z = (z-cm_z)/r_internal\n",
    "else:\n",
    "    new_x = x/r_internal\n",
    "    new_y = y/r_internal\n",
    "    new_z = z/r_internal\n",
    "\n",
    "new_vx = vx/v_internal\n",
    "new_vy = vy/v_internal\n",
    "new_vz = vz/v_internal\n",
    "\n",
    "with open(\"input_converted.txt\", \"w\") as f:     #file ready to be given to the C code\n",
    "    print(number_of_bodies, starting_time, sep=\"\\n\", file=f)\n",
    "    np.savetxt(f, np.column_stack([new_mass, new_x, new_y, new_z, new_vx, new_vy, new_vz]), delimiter=\" \")\n",
    "    \n"
   ]
  },
  {
   "cell_type": "code",
   "execution_count": 7,
   "metadata": {},
   "outputs": [
    {
     "data": {
      "text/plain": [
       "0"
      ]
     },
     "execution_count": 7,
     "metadata": {},
     "output_type": "execute_result"
    }
   ],
   "source": [
    "#I think this works only for windows, change the command inside os.system \n",
    "#make sure that the txt input file is good\n",
    "import os\n",
    "os.system(\"cmd /c g++ nbody_sh1.C\")\n",
    "os.system(\"cmd /c a.exe < input_converted.txt > output_converted.txt\")"
   ]
  },
  {
   "cell_type": "code",
   "execution_count": 8,
   "metadata": {},
   "outputs": [
    {
     "ename": "FileNotFoundError",
     "evalue": "[Errno 2] No such file or directory: 'conversion_parameters.txt'",
     "output_type": "error",
     "traceback": [
      "\u001b[1;31m---------------------------------------------------------------------------\u001b[0m",
      "\u001b[1;31mFileNotFoundError\u001b[0m                         Traceback (most recent call last)",
      "Cell \u001b[1;32mIn[8], line 34\u001b[0m\n\u001b[0;32m     29\u001b[0m vz \u001b[38;5;241m=\u001b[39m np\u001b[38;5;241m.\u001b[39mfloat_(Extract(data, \u001b[38;5;241m6\u001b[39m))\n\u001b[0;32m     30\u001b[0m \u001b[38;5;66;03m#7 values from 0 to 6\u001b[39;00m\n\u001b[0;32m     31\u001b[0m \n\u001b[0;32m     32\u001b[0m \u001b[38;5;66;03m#print(x)               #here there should be only the corresponding element from data\u001b[39;00m\n\u001b[1;32m---> 34\u001b[0m \u001b[38;5;28;01mwith\u001b[39;00m \u001b[38;5;28;43mopen\u001b[39;49m\u001b[43m(\u001b[49m\u001b[38;5;124;43m\"\u001b[39;49m\u001b[38;5;124;43mconversion_parameters.txt\u001b[39;49m\u001b[38;5;124;43m\"\u001b[39;49m\u001b[43m)\u001b[49m \u001b[38;5;28;01mas\u001b[39;00m f:\n\u001b[0;32m     35\u001b[0m     internal \u001b[38;5;241m=\u001b[39m f\u001b[38;5;241m.\u001b[39mreadlines()\n\u001b[0;32m     38\u001b[0m real_mass \u001b[38;5;241m=\u001b[39m mass\u001b[38;5;241m*\u001b[39mmass_internal\n",
      "File \u001b[1;32m~\\AppData\\Roaming\\Python\\Python311\\site-packages\\IPython\\core\\interactiveshell.py:324\u001b[0m, in \u001b[0;36m_modified_open\u001b[1;34m(file, *args, **kwargs)\u001b[0m\n\u001b[0;32m    317\u001b[0m \u001b[38;5;28;01mif\u001b[39;00m file \u001b[38;5;129;01min\u001b[39;00m {\u001b[38;5;241m0\u001b[39m, \u001b[38;5;241m1\u001b[39m, \u001b[38;5;241m2\u001b[39m}:\n\u001b[0;32m    318\u001b[0m     \u001b[38;5;28;01mraise\u001b[39;00m \u001b[38;5;167;01mValueError\u001b[39;00m(\n\u001b[0;32m    319\u001b[0m         \u001b[38;5;124mf\u001b[39m\u001b[38;5;124m\"\u001b[39m\u001b[38;5;124mIPython won\u001b[39m\u001b[38;5;124m'\u001b[39m\u001b[38;5;124mt let you open fd=\u001b[39m\u001b[38;5;132;01m{\u001b[39;00mfile\u001b[38;5;132;01m}\u001b[39;00m\u001b[38;5;124m by default \u001b[39m\u001b[38;5;124m\"\u001b[39m\n\u001b[0;32m    320\u001b[0m         \u001b[38;5;124m\"\u001b[39m\u001b[38;5;124mas it is likely to crash IPython. If you know what you are doing, \u001b[39m\u001b[38;5;124m\"\u001b[39m\n\u001b[0;32m    321\u001b[0m         \u001b[38;5;124m\"\u001b[39m\u001b[38;5;124myou can use builtins\u001b[39m\u001b[38;5;124m'\u001b[39m\u001b[38;5;124m open.\u001b[39m\u001b[38;5;124m\"\u001b[39m\n\u001b[0;32m    322\u001b[0m     )\n\u001b[1;32m--> 324\u001b[0m \u001b[38;5;28;01mreturn\u001b[39;00m \u001b[43mio_open\u001b[49m\u001b[43m(\u001b[49m\u001b[43mfile\u001b[49m\u001b[43m,\u001b[49m\u001b[43m \u001b[49m\u001b[38;5;241;43m*\u001b[39;49m\u001b[43margs\u001b[49m\u001b[43m,\u001b[49m\u001b[43m \u001b[49m\u001b[38;5;241;43m*\u001b[39;49m\u001b[38;5;241;43m*\u001b[39;49m\u001b[43mkwargs\u001b[49m\u001b[43m)\u001b[49m\n",
      "\u001b[1;31mFileNotFoundError\u001b[0m: [Errno 2] No such file or directory: 'conversion_parameters.txt'"
     ]
    }
   ],
   "source": [
    "def Extract(lst, n):        #extract from a list of lists the nth number of the sublist\n",
    "    return [item[n] for item in lst]\n",
    "\n",
    "\n",
    "with open(\"output_converted.txt\") as f:\n",
    "    lines = f.readlines()\n",
    "\n",
    "n = int(lines[0])        #number of bodies, I need it to tell how many lines to skip (it repeats every n+2)\n",
    "l = len(lines)      #dividing this by the number of bodies + 2 gives me the number of cycles\n",
    "cycles = int(l/(n+2))\n",
    "\n",
    "number_of_bodies = lines[0::n+2]      #start from line 0 and read every 5, I don't know why it keeps printing the number of bodies (does it ever change?)\n",
    "time = lines[1::n+2]      #start from line 0 and read every 5, time\n",
    "\n",
    "data = []*l\n",
    "for i in range(cycles):\n",
    "    for j in range(n):\n",
    "        data.append(lines[i*(n+2)+2+j].split())     #here I take the third to the n+3rd line for the first cycle, where n is the number of bodies, then I take the second cycle, which goes from n+2 to 2n+2, remember that the idexes in range() start from 0\n",
    "\n",
    "#print(data)            #check what's inside to better understand\n",
    "\n",
    "mass = np.float_(Extract(data, 0))      #this is a cycles*n long array, which means that every nth element divides the array in various cycles\n",
    "                                        #for example for 3 bodies the first 3 elements are the masses of the bodies at t1, the second 3 elements are the mass of the bodies at t2 etc\n",
    "x = np.float_(Extract(data, 1))         #same thing for everything else, but instead of taking the first [0] element of each sublist, we take the 1 for x, 2 for y etc\n",
    "y = np.float_(Extract(data, 2))\n",
    "z = np.float_(Extract(data, 3))\n",
    "vx = np.float_(Extract(data, 4))\n",
    "vy = np.float_(Extract(data, 5))\n",
    "vz = np.float_(Extract(data, 6))\n",
    "#7 values from 0 to 6\n",
    "\n",
    "#print(x)               #here there should be only the corresponding element from data\n",
    "\n",
    "\n",
    "real_mass = mass*mass_internal\n",
    "real_x = x*r_internal\n",
    "real_y = y*r_internal\n",
    "real_z = z*r_internal\n",
    "real_vx = vx*r_internal\n",
    "real_vy = vy*r_internal\n",
    "real_vz = vz*r_internal\n",
    "\n",
    "#print(x, real_x)\n",
    "\n",
    "\n",
    "with open(\"output_raw.txt\", 'w') as f:\n",
    "    np.savetxt(f, np.column_stack([real_mass, real_x, real_y, real_z, real_vx, real_vy, real_vz]), delimiter=\" \")       #first write the real values in a file\n"
   ]
  }
 ],
 "metadata": {
  "kernelspec": {
   "display_name": "Python 3",
   "language": "python",
   "name": "python3"
  },
  "language_info": {
   "codemirror_mode": {
    "name": "ipython",
    "version": 3
   },
   "file_extension": ".py",
   "mimetype": "text/x-python",
   "name": "python",
   "nbconvert_exporter": "python",
   "pygments_lexer": "ipython3",
   "version": "3.11.8"
  }
 },
 "nbformat": 4,
 "nbformat_minor": 2
}
