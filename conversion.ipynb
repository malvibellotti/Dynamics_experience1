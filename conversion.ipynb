{
 "cells": [
  {
   "cell_type": "code",
   "execution_count": null,
   "metadata": {},
   "outputs": [],
   "source": [
    "import numpy as np\n",
    "\n",
    "\n",
    "G = 6.67*10e-11\n",
    "\n",
    "number_of_bodies = input(\"Enter the number of bodies:\")\n",
    "mass = []\n",
    "x = []\n",
    "y = []\n",
    "z = []\n",
    "vx =[]\n",
    "vy = []\n",
    "vz = []\n",
    "\n",
    "r = []\n",
    "\n",
    "for i in range(int(number_of_bodies)):\n",
    "    mass.append(float(input(\"Enter mass:\")))\n",
    "    x.append(float(input(\"Enter x\")))\n",
    "    y.append(float(input(\"Enter y\")))\n",
    "    z.append(float(input(\"Enter z\")))\n",
    "    vx.append(float(input(\"Enter vx\")))\n",
    "    vy.append(float(input(\"Enter vy\")))\n",
    "    vz.append(float(input(\"Enter vz\")))\n",
    "    \n",
    "    r.append(np.sqrt(x[i]**2 + y[i]**2 + z[i]**2))\n",
    "\n",
    "\n",
    "mass_x = multiplied = [a * b for a, b in zip(mass, x)]\n",
    "mass_y = multiplied = [a * b for a, b in zip(mass, y)]\n",
    "mass_z = multiplied = [a * b for a, b in zip(mass, z)]\n",
    "cm_x = np.sum(mass_x)/sum(mass)\n",
    "cm_y = np.sum(mass_y)/sum(mass)\n",
    "cm_z = np.sum(mass_z)/sum(mass)\n",
    "    \n",
    "\n",
    "    \n",
    "    \n"
   ]
  }
 ],
 "metadata": {
  "language_info": {
   "name": "python"
  }
 },
 "nbformat": 4,
 "nbformat_minor": 2
}
