{
 "cells": [
  {
   "cell_type": "code",
   "execution_count": 13,
   "metadata": {},
   "outputs": [],
   "source": [
    "import numpy as np\n",
    "import math\n",
    "\n",
    "G = 6.674e-11\n",
    "manually_set = 0     #set this to 1 if you want to give the values from terminal, otherwise read from input_raw.txt\n",
    "starting_time = 0       #starting time added to the input_converted file\n",
    "center_of_mass = 0      #set this to True if you want the coordinates to be in the center of mass, I THINK IT DOESN'T CURRENTLY WORK (3D ANIMATION)\n",
    "\n",
    "#mass is always set (we can change it in the future but I think it's the simplest way)\n",
    "#now we are left with radius and velocity\n",
    "set_radius = True       #if this is True the radius will be set to 1 ua (which can be changed in the code). Then the velocity will be calculated accordingly (to get G=1)\n",
    "#if this is False the velocity will be set to 1000m/s and the radius will be calculated accordingly\n",
    "\n",
    "mass = []\n",
    "x = []\n",
    "y = []\n",
    "z = []\n",
    "vx =[]\n",
    "vy = []\n",
    "vz = []\n",
    "r = []\n",
    "\n",
    "if manually_set == True:\n",
    "    number_of_bodies = input(\"Enter the number of bodies:\")\n",
    "    for i in range(int(number_of_bodies)):\n",
    "        mass.append(float(input(\"Enter mass:\")))\n",
    "        x.append(float(input(\"Enter x\")))\n",
    "        y.append(float(input(\"Enter y\")))\n",
    "        z.append(float(input(\"Enter z\")))\n",
    "        vx.append(float(input(\"Enter vx\")))\n",
    "        vy.append(float(input(\"Enter vy\")))\n",
    "        vz.append(float(input(\"Enter vz\")))\n",
    "    \n",
    "        r.append(np.sqrt(x[i]**2 + y[i]**2 + z[i]**2))      #non so se serve\n",
    "else:\n",
    "    mass, x, y, z, vx, vy, vz = np.loadtxt(\"input_raw.txt\", delimiter=\" \", comments=\"#\", dtype=\"float\").T\n",
    "    number_of_bodies = len(mass)\n",
    "\n",
    "mass_x = [a * b for a, b in zip(mass, x)]      #mass times coordinate x\n",
    "mass_y = [a * b for a, b in zip(mass, y)]      #mass times coordinate y\n",
    "mass_z = [a * b for a, b in zip(mass, z)]      #mass times coordinate z\n",
    "mass_vx = [a * b for a, b in zip(mass, vx)]      #mass times coordinate vx\n",
    "mass_vy = [a * b for a, b in zip(mass, vy)]      #mass times coordinate vy\n",
    "mass_vz = [a * b for a, b in zip(mass, vz)]      #mass times coordinate vz\n",
    "\n",
    "cm_x = np.sum(mass_x)/sum(mass)\n",
    "cm_y = np.sum(mass_y)/sum(mass)\n",
    "cm_z = np.sum(mass_z)/sum(mass)\n",
    "cm_vx = np.sum(mass_vx)/sum(mass)\n",
    "cm_vy = np.sum(mass_vy)/sum(mass)\n",
    "cm_vz = np.sum(mass_vz)/sum(mass)\n",
    "\n",
    "mass_internal = mass[0]     #use the first mass as unit, you can choose another one\n",
    "\n",
    "if set_radius == True:\n",
    "    r_internal = 149597870700       #m, 1 ua, you can change this to be anything (but 0)\n",
    "    v_internal = np.sqrt(G*mass_internal/r_internal)\n",
    "\n",
    "else:\n",
    "    v_internal = 1000       #m/s\n",
    "    r_internal = G*mass_internal/v_internal**2\n",
    "\n",
    "t_internal = r_internal/v_internal\n",
    "\n",
    "\n",
    "new_mass = mass/mass_internal\n",
    "\n",
    "if center_of_mass == True:\n",
    "    new_x = (x-cm_x)/r_internal\n",
    "    new_y = (y-cm_y)/r_internal\n",
    "    new_z = (z-cm_z)/r_internal\n",
    "    new_vx = (x-cm_vx)/v_internal\n",
    "    new_vy = (x-cm_vy)/v_internal\n",
    "    new_vz = (x-cm_vz)/v_internal\n",
    "else:\n",
    "    new_x = x/r_internal\n",
    "    new_y = y/r_internal\n",
    "    new_z = z/r_internal\n",
    "    new_vx = vx/v_internal\n",
    "    new_vy = vy/v_internal\n",
    "    new_vz = vz/v_internal\n",
    "\n",
    "\n",
    "\n",
    "with open(\"input_converted.txt\", \"w\") as f:     #file ready to be given to the C code\n",
    "    print(number_of_bodies, starting_time, sep=\"\\n\", file=f)\n",
    "    np.savetxt(f, np.column_stack([new_mass, new_x, new_y, new_z, new_vx, new_vy, new_vz]), delimiter=\" \")\n",
    "\n",
    "\n",
    "    \n"
   ]
  },
  {
   "cell_type": "code",
   "execution_count": 14,
   "metadata": {},
   "outputs": [
    {
     "name": "stdout",
     "output_type": "stream",
     "text": [
      "7036308.778468011\n"
     ]
    },
    {
     "data": {
      "text/plain": [
       "0"
      ]
     },
     "execution_count": 14,
     "metadata": {},
     "output_type": "execute_result"
    }
   ],
   "source": [
    "#I think this works only for windows, change the command inside os.system \n",
    "#make sure that the txt input file is good\n",
    "import os\n",
    "#os.system(\"cmd /c g++ nbody_sh1.C\")\n",
    "print(2*np.pi*t_internal)\n",
    "t = str(50)\n",
    "o = str(0.1)\n",
    "os.system(\"cmd /c a.exe -o \" + o +\" -t \" + t + \" < input_converted.txt > output_converted.txt\")"
   ]
  },
  {
   "cell_type": "code",
   "execution_count": 15,
   "metadata": {},
   "outputs": [],
   "source": [
    "def Extract(lst, n):        #extract from a list of lists the nth number of the sublist\n",
    "    return [item[n] for item in lst]\n",
    "\n",
    "\n",
    "with open(\"output_converted.txt\") as f:\n",
    "    lines = f.readlines()\n",
    "\n",
    "n = int(lines[0])        #number of bodies, I need it to tell how many lines to skip (it repeats every n+2)\n",
    "l = len(lines)      #dividing this by the number of bodies + 2 gives me the number of cycles\n",
    "cycles = int(l/(n+2))\n",
    "\n",
    "time = lines[1::n+2]      #start from line 0 and read every 5, time\n",
    "\n",
    "data = []*l\n",
    "for i in range(cycles):\n",
    "    for j in range(n):\n",
    "        data.append(lines[i*(n+2)+2+j].split())     #here I take the third to the n+3rd line for the first cycle, where n is the number of bodies, then I take the second cycle, which goes from n+2 to 2n+2, remember that the idexes in range() start from 0\n",
    "\n",
    "#print(data)            #check what's inside to better understand\n",
    "\n",
    "mass = np.float_(Extract(data, 0))      #this is a cycles*n long array, which means that every nth element divides the array in various cycles\n",
    "                                        #for example for 3 bodies the first 3 elements are the masses of the bodies at t1, the second 3 elements are the mass of the bodies at t2 etc\n",
    "x = np.float_(Extract(data, 1))         #same thing for everything else, but instead of taking the first [0] element of each sublist, we take the 1 for x, 2 for y etc\n",
    "y = np.float_(Extract(data, 2))\n",
    "z = np.float_(Extract(data, 3))\n",
    "vx = np.float_(Extract(data, 4))\n",
    "vy = np.float_(Extract(data, 5))\n",
    "vz = np.float_(Extract(data, 6))\n",
    "#7 values from 0 to 6\n",
    "\n",
    "#print(x)               #here there should be only the corresponding element from data\n",
    "\n",
    "\n",
    "real_mass = mass*mass_internal\n",
    "real_x = x*r_internal\n",
    "real_y = y*r_internal\n",
    "real_z = z*r_internal\n",
    "real_vx = vx*r_internal\n",
    "real_vy = vy*r_internal\n",
    "real_vz = vz*r_internal\n",
    "\n",
    "#print(x, real_x)\n",
    "\n",
    "\n",
    "with open(\"output_raw.txt\", 'w') as f:\n",
    "    np.savetxt(f, np.column_stack([real_mass, real_x, real_y, real_z, real_vx, real_vy, real_vz]), delimiter=\" \")       #first write the real values in a file\n",
    "\n"
   ]
  },
  {
   "cell_type": "code",
   "execution_count": 16,
   "metadata": {},
   "outputs": [
    {
     "data": {
      "application/vnd.jupyter.widget-view+json": {
       "model_id": "58b3f7361a234379b2b32137f057911f",
       "version_major": 2,
       "version_minor": 0
      },
      "text/plain": [
       "  0%|          | 0/500 [00:00<?, ?it/s]"
      ]
     },
     "metadata": {},
     "output_type": "display_data"
    },
    {
     "data": {
      "text/plain": [
       "CompletedProcess(args='cd Diegofigs & ffmpeg -framerate 20 -i image%3d.jpg earthsun.mp4', returncode=0, stdout='', stderr=\"The system cannot find the path specified.\\nffmpeg version 2024-03-20-git-e04c638f5f-full_build-www.gyan.dev Copyright (c) 2000-2024 the FFmpeg developers\\n  built with gcc 13.2.0 (Rev5, Built by MSYS2 project)\\n  configuration: --enable-gpl --enable-version3 --enable-static --pkg-config=pkgconf --disable-w32threads --disable-autodetect --enable-fontconfig --enable-iconv --enable-gnutls --enable-libxml2 --enable-gmp --enable-bzlib --enable-lzma --enable-libsnappy --enable-zlib --enable-librist --enable-libsrt --enable-libssh --enable-libzmq --enable-avisynth --enable-libbluray --enable-libcaca --enable-sdl2 --enable-libaribb24 --enable-libaribcaption --enable-libdav1d --enable-libdavs2 --enable-libuavs3d --enable-libzvbi --enable-librav1e --enable-libsvtav1 --enable-libwebp --enable-libx264 --enable-libx265 --enable-libxavs2 --enable-libxvid --enable-libaom --enable-libjxl --enable-libopenjpeg --enable-libvpx --enable-mediafoundation --enable-libass --enable-frei0r --enable-libfreetype --enable-libfribidi --enable-libharfbuzz --enable-liblensfun --enable-libvidstab --enable-libvmaf --enable-libzimg --enable-amf --enable-cuda-llvm --enable-cuvid --enable-ffnvcodec --enable-nvdec --enable-nvenc --enable-dxva2 --enable-d3d11va --enable-libvpl --enable-libshaderc --enable-vulkan --enable-libplacebo --enable-opencl --enable-libcdio --enable-libgme --enable-libmodplug --enable-libopenmpt --enable-libopencore-amrwb --enable-libmp3lame --enable-libshine --enable-libtheora --enable-libtwolame --enable-libvo-amrwbenc --enable-libcodec2 --enable-libilbc --enable-libgsm --enable-libopencore-amrnb --enable-libopus --enable-libspeex --enable-libvorbis --enable-ladspa --enable-libbs2b --enable-libflite --enable-libmysofa --enable-librubberband --enable-libsoxr --enable-chromaprint\\n  libavutil      59.  3.100 / 59.  3.100\\n  libavcodec     61.  2.100 / 61.  2.100\\n  libavformat    61.  0.100 / 61.  0.100\\n  libavdevice    61.  0.100 / 61.  0.100\\n  libavfilter    10.  0.100 / 10.  0.100\\n  libswscale      8.  0.100 /  8.  0.100\\n  libswresample   5.  0.100 /  5.  0.100\\n  libpostproc    58.  0.100 / 58.  0.100\\nInput #0, image2, from 'image%3d.jpg':\\n  Duration: 00:00:25.00, start: 0.000000, bitrate: N/A\\n  Stream #0:0: Video: mjpeg (Baseline), yuvj420p(pc, bt470bg/unknown/unknown), 500x500 [SAR 100:100 DAR 1:1], 20 fps, 20 tbr, 20 tbn\\nFile 'earthsun.mp4' already exists. Overwrite? [y/N] Stream mapping:\\n  Stream #0:0 -> #0:0 (mjpeg (native) -> h264 (libx264))\\nPress [q] to stop, [?] for help\\n[libx264 @ 000001945b864000] using SAR=1/1\\n[libx264 @ 000001945b864000] using cpu capabilities: MMX2 SSE2Fast SSSE3 SSE4.2 AVX FMA3 BMI2 AVX2 AVX512\\n[libx264 @ 000001945b864000] profile High, level 3.0, 4:2:0, 8-bit\\n[libx264 @ 000001945b864000] 264 - core 164 r3186 585e019 - H.264/MPEG-4 AVC codec - Copyleft 2003-2024 - http://www.videolan.org/x264.html - options: cabac=1 ref=3 deblock=1:0:0 analyse=0x3:0x113 me=hex subme=7 psy=1 psy_rd=1.00:0.00 mixed_ref=1 me_range=16 chroma_me=1 trellis=1 8x8dct=1 cqm=0 deadzone=21,11 fast_pskip=1 chroma_qp_offset=-2 threads=16 lookahead_threads=2 sliced_threads=0 nr=0 decimate=1 interlaced=0 bluray_compat=0 constrained_intra=0 bframes=3 b_pyramid=2 b_adapt=1 b_bias=0 direct=1 weightb=1 open_gop=0 weightp=2 keyint=250 keyint_min=20 scenecut=40 intra_refresh=0 rc_lookahead=40 rc=crf mbtree=1 crf=23.0 qcomp=0.60 qpmin=0 qpmax=69 qpstep=4 ip_ratio=1.40 aq=1:1.00\\nOutput #0, mp4, to 'earthsun.mp4':\\n  Metadata:\\n    encoder         : Lavf61.0.100\\n  Stream #0:0: Video: h264 (avc1 / 0x31637661), yuvj420p(pc, bt470bg/unknown/unknown, progressive), 500x500 [SAR 100:100 DAR 1:1], q=2-31, 20 fps, 10240 tbn\\n      Metadata:\\n        encoder         : Lavc61.2.100 libx264\\n      Side data:\\n        cpb: bitrate max/min/avg: 0/0/0 buffer size: 0 vbv_delay: N/A\\nframe=  178 fps=0.0 q=28.0 size=       0KiB time=00:00:08.80 bitrate=   0.0kbits/s speed=17.3x    \\nframe=  339 fps=333 q=28.0 size=       0KiB time=00:00:16.85 bitrate=   0.0kbits/s speed=16.6x    \\n[out#0/mp4 @ 000001945b842680] video:116KiB audio:0KiB subtitle:0KiB other streams:0KiB global headers:0KiB muxing overhead: 5.511096%\\nframe=  500 fps=350 q=-1.0 Lsize=     123KiB time=00:00:24.90 bitrate=  40.3kbits/s speed=17.4x    \\n[libx264 @ 000001945b864000] frame I:2     Avg QP:13.19  size: 20222\\n[libx264 @ 000001945b864000] frame P:183   Avg QP:18.04  size:   230\\n[libx264 @ 000001945b864000] frame B:315   Avg QP:22.22  size:   113\\n[libx264 @ 000001945b864000] consecutive B-frames:  8.4% 18.0% 14.4% 59.2%\\n[libx264 @ 000001945b864000] mb I  I16..4: 35.4% 54.7%  9.9%\\n[libx264 @ 000001945b864000] mb P  I16..4:  0.0%  0.0%  0.0%  P16..4:  0.3%  0.3%  0.2%  0.0%  0.0%    skip:99.1%\\n[libx264 @ 000001945b864000] mb B  I16..4:  0.0%  0.2%  0.0%  B16..8:  0.9%  0.3%  0.1%  direct: 0.1%  skip:98.4%  L0:45.3% L1:50.4% BI: 4.3%\\n[libx264 @ 000001945b864000] 8x8 transform intra:60.7% inter:32.1%\\n[libx264 @ 000001945b864000] coded y,uvDC,uvAC intra: 21.1% 2.5% 1.5% inter: 0.2% 0.3% 0.2%\\n[libx264 @ 000001945b864000] i16 v,h,dc,p: 77% 11% 11%  0%\\n[libx264 @ 000001945b864000] i8 v,h,dc,ddl,ddr,vr,hd,vl,hu: 22% 14% 49%  5%  0%  0%  6%  1%  4%\\n[libx264 @ 000001945b864000] i4 v,h,dc,ddl,ddr,vr,hd,vl,hu: 37% 19% 18%  6%  3%  2% 10%  3%  4%\\n[libx264 @ 000001945b864000] i8c dc,h,v,p: 98%  1%  1%  0%\\n[libx264 @ 000001945b864000] Weighted P-Frames: Y:0.0% UV:0.0%\\n[libx264 @ 000001945b864000] ref P L0: 60.1%  5.0% 18.8% 16.1%\\n[libx264 @ 000001945b864000] ref B L0: 74.9% 20.2%  4.8%\\n[libx264 @ 000001945b864000] ref B L1: 97.8%  2.2%\\n[libx264 @ 000001945b864000] kb/s:37.85\\n\")"
      ]
     },
     "execution_count": 16,
     "metadata": {},
     "output_type": "execute_result"
    }
   ],
   "source": [
    "import subprocess\n",
    "import random\n",
    "import numpy as np\n",
    "import matplotlib.pyplot as plt\n",
    "import matplotlib as mpl\n",
    "import matplotlib.animation as animation\n",
    "from matplotlib.animation import FFMpegWriter, PillowWriter\n",
    "from tqdm.notebook import tqdm\n",
    "import warnings\n",
    "\n",
    "warnings.filterwarnings('ignore')\n",
    "\n",
    "%matplotlib agg\n",
    "\n",
    "\n",
    "dati=np.genfromtxt('output_raw.txt', delimiter=' ', usecols=range(1,4), invalid_raise=False)\n",
    "\n",
    "norm = mpl.colors.Normalize(vmin=0, vmax=number_of_bodies)\n",
    "cmap = mpl.colormaps.get_cmap(\"viridis\")\n",
    "\n",
    "x_min = 5e11\n",
    "x_max = -5e11\n",
    "y_min = 5e11\n",
    "y_max = -5e11\n",
    "z_min = 5e11\n",
    "z_max = -5e11\n",
    "i=0\n",
    "\n",
    "for i in tqdm(range(len(dati[::number_of_bodies]))):\n",
    "        \n",
    "    fig = plt.figure(figsize=(5,5))\n",
    "    ax = fig.add_subplot(111, projection='3d')\n",
    "    plt.axis([x_min, x_max, y_min, y_max, z_min, z_max])\n",
    "    for j in range(number_of_bodies):\n",
    "        ax.scatter3D(dati[j::number_of_bodies][i,0], dati[j::number_of_bodies][i,1], dati[j::number_of_bodies][i,2], color=cmap((norm(j))), alpha=1) #\n",
    "\n",
    "    plt.show()\n",
    "    fig.savefig(\"Diegofigs/image{:03}.jpg\".format(i+1))\n",
    "    \n",
    "\n",
    "subprocess.run(\"cd Diegofigs & ffmpeg -framerate 20 -i image%3d.jpg earthsun.mp4\", shell=True, cwd=\"Diegofigs\", capture_output=True, text=True, input=\"y\")\n",
    "\n",
    "\n",
    "#print(int(t)*t_internal)\n",
    "#print(dati)"
   ]
  },
  {
   "cell_type": "code",
   "execution_count": 17,
   "metadata": {},
   "outputs": [],
   "source": [
    "#be very carefull\n",
    "import os\n",
    "import glob\n",
    "\n",
    "files = glob.glob(\"Diegofigs/*.jpg\")        #this deletes all jpg files in a folder\n",
    "for f in files:\n",
    "    os.remove(f)"
   ]
  }
 ],
 "metadata": {
  "kernelspec": {
   "display_name": "Python 3",
   "language": "python",
   "name": "python3"
  },
  "language_info": {
   "codemirror_mode": {
    "name": "ipython",
    "version": 3
   },
   "file_extension": ".py",
   "mimetype": "text/x-python",
   "name": "python",
   "nbconvert_exporter": "python",
   "pygments_lexer": "ipython3",
   "version": "3.11.8"
  }
 },
 "nbformat": 4,
 "nbformat_minor": 2
}
