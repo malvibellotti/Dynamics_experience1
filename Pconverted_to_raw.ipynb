{
 "cells": [
  {
   "cell_type": "code",
   "execution_count": 31,
   "metadata": {},
   "outputs": [],
   "source": [
    "import numpy as np\n",
    "\n",
    "\n",
    "def Extract(lst, n):        #extract from a list of lists the nth number of the sublist\n",
    "    return [item[n] for item in lst]\n",
    "\n",
    "\n",
    "with open(\"output_converted.txt\") as f:\n",
    "    lines = f.readlines()\n",
    "\n",
    "n = int(lines[0])        #number of bodies, I need it to tell how many lines to skip (it repeats every n+2)\n",
    "l = len(lines)      #dividing this by the number of bodies + 2 gives me the number of cycles\n",
    "cycles = int(l/(n+2))\n",
    "\n",
    "number_of_bodies = lines[0::n+2]      #start from line 0 and read every 5, I don't know why it keeps printing the number of bodies (does it ever change?)\n",
    "time = lines[1::n+2]      #start from line 0 and read every 5, time\n",
    "\n",
    "data = []*l\n",
    "for i in range(cycles):\n",
    "    for j in range(n):\n",
    "        data.append(lines[i*(n+2)+2+j].split())     #here I take the third to the n+3rd line for the first cycle, where n is the number of bodies, then I take the second cycle, which goes from n+2 to 2n+2, remember that the idexes in range() start from 0\n",
    "\n",
    "#print(data)            #check what's inside to better understand\n",
    "\n",
    "mass = np.float_(Extract(data, 0))      #this is a cycles*n long array, which means that every nth element divides the array in various cycles\n",
    "                                        #for example for 3 bodies the first 3 elements are the masses of the bodies at t1, the second 3 elements are the mass of the bodies at t2 etc\n",
    "x = np.float_(Extract(data, 1))         #same thing for everything else, but instead of taking the first [0] element of each sublist, we take the 1 for x, 2 for y etc\n",
    "y = np.float_(Extract(data, 2))\n",
    "z = np.float_(Extract(data, 3))\n",
    "vx = np.float_(Extract(data, 4))\n",
    "vy = np.float_(Extract(data, 5))\n",
    "vz = np.float_(Extract(data, 6))\n",
    "#7 values from 0 to 6\n",
    "\n",
    "#print(x)               #here there should be only the corresponding element from data\n",
    "\n",
    "with open(\"conversion_parameters.txt\") as f:\n",
    "    internal = f.readlines()\n",
    "\n",
    "mass_internal = float(internal[0])\n",
    "r_internal = float(internal[1])\n",
    "v_internal = float(internal[2])\n",
    "\n",
    "real_mass = mass*mass_internal\n",
    "real_x = x*r_internal\n",
    "real_y = y*r_internal\n",
    "real_z = z*r_internal\n",
    "real_vx = vx*r_internal\n",
    "real_vy = vy*r_internal\n",
    "real_vz = vz*r_internal\n",
    "\n",
    "#print(x, real_x)\n",
    "\n",
    "\n",
    "with open(\"output_raw.txt\", 'w') as f:\n",
    "    np.savetxt(f, np.column_stack([real_mass, real_x, real_y, real_z, real_vx, real_vy, real_vz]), delimiter=\" \")       #first write the real values in a file\n"
   ]
  }
 ],
 "metadata": {
  "kernelspec": {
   "display_name": "Python 3",
   "language": "python",
   "name": "python3"
  },
  "language_info": {
   "codemirror_mode": {
    "name": "ipython",
    "version": 3
   },
   "file_extension": ".py",
   "mimetype": "text/x-python",
   "name": "python",
   "nbconvert_exporter": "python",
   "pygments_lexer": "ipython3",
   "version": "3.11.8"
  }
 },
 "nbformat": 4,
 "nbformat_minor": 2
}
